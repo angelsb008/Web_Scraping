{
 "cells": [
  {
   "cell_type": "markdown",
   "id": "79da23bd-36fe-42a6-b5c8-5ada606ba65a",
   "metadata": {},
   "source": [
    "El presente notebook toma capturas de pantalla a distintas zonas del país (a través de códigos postales) del provedor de red AT&T"
   ]
  },
  {
   "cell_type": "markdown",
   "id": "762646b3-f576-47c9-aad4-ea0b0a7d964d",
   "metadata": {},
   "source": [
    "## Importamos las librerías a utilizar"
   ]
  },
  {
   "cell_type": "code",
   "execution_count": 1,
   "id": "37da729d",
   "metadata": {},
   "outputs": [],
   "source": [
    "from lib2to3.pgen2 import driver\n",
    "from ssl import Options\n",
    "from selenium import webdriver\n",
    "from selenium.webdriver.support.ui import WebDriverWait\n",
    "from selenium.webdriver.support import expected_conditions as EC\n",
    "from selenium.webdriver.common.by import By\n",
    "from selenium.webdriver.common.keys import Keys\n",
    "import time\n",
    "import pandas as pd\n",
    "import numpy as np\n",
    "import os"
   ]
  },
  {
   "cell_type": "markdown",
   "id": "1b1cc5df-3a7f-4319-bbbb-ea7a323c33fd",
   "metadata": {},
   "source": [
    "## Obtenemos nuestra ruta actual, configuramos selenium con chromium"
   ]
  },
  {
   "cell_type": "code",
   "execution_count": 3,
   "id": "5d34a0d8",
   "metadata": {},
   "outputs": [
    {
     "name": "stderr",
     "output_type": "stream",
     "text": [
      "C:\\Users\\Cantilever\\AppData\\Local\\Temp\\ipykernel_21368\\667409398.py:10: DeprecationWarning: executable_path has been deprecated, please pass in a Service object\n",
      "  driver = webdriver.Chrome(driver_path, chrome_options=Options)\n",
      "C:\\Users\\Cantilever\\AppData\\Local\\Temp\\ipykernel_21368\\667409398.py:10: DeprecationWarning: use options instead of chrome_options\n",
      "  driver = webdriver.Chrome(driver_path, chrome_options=Options)\n"
     ]
    }
   ],
   "source": [
    "root = os.getcwd() # Obtenemos la ruta de nuestro directorio actual\n",
    "\n",
    "#Opciones de navegación\n",
    "Options = webdriver.ChromeOptions()\n",
    "Options.add_argument('--headless')\n",
    "#Options.add_argument('--start-maximized')\n",
    "Options.add_argument('--window-size=700,700')\n",
    "Options.add_argument('--disable-extensions')\n",
    "driver_path  = os.getcwd() + \"\\\\chromedriver.exe\"\n",
    "driver = webdriver.Chrome(driver_path, chrome_options=Options)\n",
    "\n",
    "#Inicializa el navegador\n",
    "driver.get('https://www.att.com.mx/servicios/cobertura')"
   ]
  },
  {
   "cell_type": "markdown",
   "id": "b69cb81a-59b3-4076-8e6a-45cf7a30d457",
   "metadata": {},
   "source": [
    "## Abrimos nuestro DataFrame con la información de todos los códigos postales del país"
   ]
  },
  {
   "cell_type": "code",
   "execution_count": 4,
   "id": "ac93e8ba",
   "metadata": {},
   "outputs": [],
   "source": [
    "#Lectura del archivo excel\n",
    "lista = pd.read_excel(os.getcwd() + '\\\\CP_Localidades.xlsx')\n",
    "lista = lista.drop_duplicates(['d_codigo'], keep='last')"
   ]
  },
  {
   "cell_type": "markdown",
   "id": "757b939d-cd0f-4a9b-9407-742a3d9d1864",
   "metadata": {},
   "source": [
    "## Creamos nuestro bot que ingresará a la página de AT&T para tomar capturas de pantalla de la cobertura de señal"
   ]
  },
  {
   "cell_type": "code",
   "execution_count": 5,
   "id": "3d63435d",
   "metadata": {},
   "outputs": [],
   "source": [
    "#Hace un Scroll para poder buscar el codigo postal\n",
    "def captura_chrome(cp, municipio, estado, driver = driver):\n",
    "    time.sleep(2)\n",
    "    driver.execute_script(\"window.scrollTo(0,600)\")\n",
    "    \n",
    "    #Busqueda del codigo postal\n",
    "    WebDriverWait(driver, 5)\\\n",
    "        .until(EC.element_to_be_clickable((By.CSS_SELECTOR,\n",
    "                                          'input.att-ccm-input')))\\\n",
    "        .send_keys(str(cp))\n",
    "    \n",
    "    WebDriverWait(driver, 5)\\\n",
    "        .until(EC.element_to_be_clickable((By.XPATH,\n",
    "                                          '/html/body/main/div[2]/div/div/div/div[3]/div/div[5]/section/div[1]/form/button')))\\\n",
    "        .click()\n",
    "    \n",
    "    #Hace un Scroll para hacer la captura\n",
    "    time.sleep(2)\n",
    "    driver.execute_script(\"window.scrollTo(0,900)\")\n",
    "    \n",
    "    #Captura de Pantalla\n",
    "    time.sleep(2)\n",
    "    driver.save_screenshot(f'{estado}/{municipio}_{cp}.png')\n",
    "    \n",
    "    try:\n",
    "        time.sleep(2)\n",
    "        WebDriverWait(driver, 5)\\\n",
    "            .until(EC.element_to_be_clickable((By.XPATH,\n",
    "                                          '/html/body/main/div[2]/div/div/div/div[3]/div/div[5]/div/div/div/div[3]/button')))\\\n",
    "            .click()\n",
    "    except:\n",
    "        print('OK')\n",
    "        time.sleep(2)\n",
    "        \n",
    "    WebDriverWait(driver, 5)\\\n",
    "        .until(EC.element_to_be_clickable((By.CSS_SELECTOR,\n",
    "                                          'input.att-ccm-input')))\\\n",
    "            .clear()\n",
    "    \n",
    "    #Cerrar Chrome\n",
    "    #time.sleep(5)\n",
    "    #driver.close()"
   ]
  },
  {
   "cell_type": "markdown",
   "id": "af871876-f1b0-47a1-b60b-5d8fb1e07bdc",
   "metadata": {},
   "source": [
    "## Ejecutamos nuestra función"
   ]
  },
  {
   "cell_type": "code",
   "execution_count": 6,
   "id": "55b25a20",
   "metadata": {},
   "outputs": [
    {
     "name": "stdout",
     "output_type": "stream",
     "text": [
      "33320\n",
      "33323\n",
      "33324\n",
      "33325\n",
      "33326\n",
      "33327\n",
      "33330\n",
      "33333\n",
      "33334\n",
      "33335\n",
      "33336\n",
      "33337\n",
      "35350\n",
      "35353\n",
      "35354\n",
      "35355\n",
      "35356\n",
      "35357\n",
      "35360\n",
      "35363\n",
      "35364\n",
      "35366\n",
      "35367\n",
      "35368\n",
      "35370\n",
      "35371\n",
      "35373\n",
      "35374\n",
      "35375\n",
      "35380\n",
      "35381\n",
      "35383\n",
      "35385\n",
      "35390\n",
      "35393\n",
      "35395\n",
      "37630\n",
      "OK\n",
      "37631\n",
      "OK\n",
      "37632\n",
      "OK\n",
      "37634\n",
      "OK\n",
      "37635\n",
      "37636\n",
      "OK\n",
      "37640\n",
      "OK\n",
      "37641\n",
      "OK\n",
      "37642\n",
      "OK\n"
     ]
    },
    {
     "ename": "KeyboardInterrupt",
     "evalue": "",
     "output_type": "error",
     "traceback": [
      "\u001b[1;31m---------------------------------------------------------------------------\u001b[0m",
      "\u001b[1;31mKeyboardInterrupt\u001b[0m                         Traceback (most recent call last)",
      "\u001b[1;32m~\\AppData\\Local\\Temp\\ipykernel_9488\\1306942604.py\u001b[0m in \u001b[0;36mcaptura_chrome\u001b[1;34m(cp, municipio, estado, driver)\u001b[0m\n\u001b[0;32m     27\u001b[0m         \u001b[0mWebDriverWait\u001b[0m\u001b[1;33m(\u001b[0m\u001b[0mdriver\u001b[0m\u001b[1;33m,\u001b[0m \u001b[1;36m5\u001b[0m\u001b[1;33m)\u001b[0m\u001b[0;31m\\\u001b[0m\u001b[1;33m\u001b[0m\u001b[1;33m\u001b[0m\u001b[0m\n\u001b[1;32m---> 28\u001b[1;33m             .until(EC.element_to_be_clickable((By.XPATH,\n\u001b[0m\u001b[0;32m     29\u001b[0m                                           '/html/body/main/div[2]/div/div/div/div[3]/div/div[5]/div/div/div/div[3]/button')))\\\n",
      "\u001b[1;32m~\\AppData\\Local\\Programs\\Python\\Python310\\lib\\site-packages\\selenium\\webdriver\\support\\wait.py\u001b[0m in \u001b[0;36muntil\u001b[1;34m(self, method, message)\u001b[0m\n\u001b[0;32m     86\u001b[0m                 \u001b[0mstacktrace\u001b[0m \u001b[1;33m=\u001b[0m \u001b[0mgetattr\u001b[0m\u001b[1;33m(\u001b[0m\u001b[0mexc\u001b[0m\u001b[1;33m,\u001b[0m \u001b[1;34m'stacktrace'\u001b[0m\u001b[1;33m,\u001b[0m \u001b[1;32mNone\u001b[0m\u001b[1;33m)\u001b[0m\u001b[1;33m\u001b[0m\u001b[1;33m\u001b[0m\u001b[0m\n\u001b[1;32m---> 87\u001b[1;33m             \u001b[0mtime\u001b[0m\u001b[1;33m.\u001b[0m\u001b[0msleep\u001b[0m\u001b[1;33m(\u001b[0m\u001b[0mself\u001b[0m\u001b[1;33m.\u001b[0m\u001b[0m_poll\u001b[0m\u001b[1;33m)\u001b[0m\u001b[1;33m\u001b[0m\u001b[1;33m\u001b[0m\u001b[0m\n\u001b[0m\u001b[0;32m     88\u001b[0m             \u001b[1;32mif\u001b[0m \u001b[0mtime\u001b[0m\u001b[1;33m.\u001b[0m\u001b[0mmonotonic\u001b[0m\u001b[1;33m(\u001b[0m\u001b[1;33m)\u001b[0m \u001b[1;33m>\u001b[0m \u001b[0mend_time\u001b[0m\u001b[1;33m:\u001b[0m\u001b[1;33m\u001b[0m\u001b[1;33m\u001b[0m\u001b[0m\n",
      "\u001b[1;31mKeyboardInterrupt\u001b[0m: ",
      "\nDuring handling of the above exception, another exception occurred:\n",
      "\u001b[1;31mKeyboardInterrupt\u001b[0m                         Traceback (most recent call last)",
      "\u001b[1;32m~\\AppData\\Local\\Temp\\ipykernel_9488\\163965026.py\u001b[0m in \u001b[0;36m<cell line: 1>\u001b[1;34m()\u001b[0m\n\u001b[0;32m      9\u001b[0m         \u001b[1;31m#print('Error')\u001b[0m\u001b[1;33m\u001b[0m\u001b[1;33m\u001b[0m\u001b[0m\n\u001b[0;32m     10\u001b[0m         \u001b[0ma\u001b[0m \u001b[1;33m=\u001b[0m \u001b[1;36m1\u001b[0m\u001b[1;33m\u001b[0m\u001b[1;33m\u001b[0m\u001b[0m\n\u001b[1;32m---> 11\u001b[1;33m     \u001b[0mcaptura_chrome\u001b[0m\u001b[1;33m(\u001b[0m\u001b[0mcp\u001b[0m\u001b[1;33m,\u001b[0m\u001b[0mmunicipio\u001b[0m\u001b[1;33m,\u001b[0m\u001b[0mestado\u001b[0m\u001b[1;33m)\u001b[0m\u001b[1;33m\u001b[0m\u001b[1;33m\u001b[0m\u001b[0m\n\u001b[0m",
      "\u001b[1;32m~\\AppData\\Local\\Temp\\ipykernel_9488\\1306942604.py\u001b[0m in \u001b[0;36mcaptura_chrome\u001b[1;34m(cp, municipio, estado, driver)\u001b[0m\n\u001b[0;32m     31\u001b[0m     \u001b[1;32mexcept\u001b[0m\u001b[1;33m:\u001b[0m\u001b[1;33m\u001b[0m\u001b[1;33m\u001b[0m\u001b[0m\n\u001b[0;32m     32\u001b[0m         \u001b[0mprint\u001b[0m\u001b[1;33m(\u001b[0m\u001b[1;34m'OK'\u001b[0m\u001b[1;33m)\u001b[0m\u001b[1;33m\u001b[0m\u001b[1;33m\u001b[0m\u001b[0m\n\u001b[1;32m---> 33\u001b[1;33m         \u001b[0mtime\u001b[0m\u001b[1;33m.\u001b[0m\u001b[0msleep\u001b[0m\u001b[1;33m(\u001b[0m\u001b[1;36m2\u001b[0m\u001b[1;33m)\u001b[0m\u001b[1;33m\u001b[0m\u001b[1;33m\u001b[0m\u001b[0m\n\u001b[0m\u001b[0;32m     34\u001b[0m \u001b[1;33m\u001b[0m\u001b[0m\n\u001b[0;32m     35\u001b[0m     \u001b[0mWebDriverWait\u001b[0m\u001b[1;33m(\u001b[0m\u001b[0mdriver\u001b[0m\u001b[1;33m,\u001b[0m \u001b[1;36m5\u001b[0m\u001b[1;33m)\u001b[0m\u001b[0;31m\\\u001b[0m\u001b[1;33m\u001b[0m\u001b[1;33m\u001b[0m\u001b[0m\n",
      "\u001b[1;31mKeyboardInterrupt\u001b[0m: "
     ]
    }
   ],
   "source": [
    "for index, row in lista.iterrows():\n",
    "    cp = str(row['d_codigo'])\n",
    "    estado = row['ESTADO']\n",
    "    municipio = row['MUNICIPIO']\n",
    "    print(cp)\n",
    "    try:\n",
    "        os.mkdir(estado)\n",
    "    except:\n",
    "        #print('Error')\n",
    "        a = 1\n",
    "    captura_chrome(cp,municipio,estado)"
   ]
  }
 ],
 "metadata": {
  "kernelspec": {
   "display_name": "Python 3 (ipykernel)",
   "language": "python",
   "name": "python3"
  },
  "language_info": {
   "codemirror_mode": {
    "name": "ipython",
    "version": 3
   },
   "file_extension": ".py",
   "mimetype": "text/x-python",
   "name": "python",
   "nbconvert_exporter": "python",
   "pygments_lexer": "ipython3",
   "version": "3.10.4"
  }
 },
 "nbformat": 4,
 "nbformat_minor": 5
}
